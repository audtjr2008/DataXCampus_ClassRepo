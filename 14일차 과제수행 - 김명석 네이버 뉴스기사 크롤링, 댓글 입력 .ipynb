{
 "cells": [
  {
   "cell_type": "markdown",
   "metadata": {},
   "source": [
    "## 14일차 과제수행 - 김명석\n",
    "## 드루킹이 되어보자 네이버 뉴스기사에 댓글 입력해보기."
   ]
  },
  {
   "cell_type": "code",
   "execution_count": 3,
   "metadata": {},
   "outputs": [],
   "source": [
    "from selenium import webdriver\n",
    "# 로그인\n",
    "account = {\n",
    "    'id':'1rlaaudtjr',\n",
    "    'pw':'kms62197&'\n",
    "}\n",
    "driver = webdriver.Chrome(\"chromedriver\")\n",
    "\n",
    "driver.get(\"http://www.naver.com\")\n",
    "\n",
    "# Login \n",
    "driver.find_element_by_id(\"id\").send_keys(account['id'])\n",
    "driver.find_element_by_id(\"pw\").send_keys(account['pw'])\n",
    "driver.find_element_by_css_selector(\"span.btn_login > input\").click()"
   ]
  },
  {
   "cell_type": "code",
   "execution_count": 14,
   "metadata": {},
   "outputs": [
    {
     "name": "stdout",
     "output_type": "stream",
     "text": [
      "\"6월 말부터 심한 진동\"…유가족 \"진상규명\" 요구 /main/ranking/read.nhn?mid=etc&amp;sid1=111&amp;rankingType=popular_day&amp;oid=214&amp;aid=0000859130&amp;date=20180720&amp;type=2&amp;rankingSectionId=100&amp;rankingSeq=1\n",
      "계엄령 해제 못하도록…국회의원 무더기 체포 계획까지 /main/ranking/read.nhn?mid=etc&amp;sid1=111&amp;rankingType=popular_day&amp;oid=055&amp;aid=0000660431&amp;date=20180720&amp;type=2&amp;rankingSectionId=100&amp;rankingSeq=2\n",
      "국회·언론 통제…'민주주의 파괴' 계획, 누가 왜 지시했나 /main/ranking/read.nhn?mid=etc&amp;sid1=111&amp;rankingType=popular_day&amp;oid=437&amp;aid=0000187179&amp;date=20180720&amp;type=2&amp;rankingSectionId=100&amp;rankingSeq=3\n",
      "文대통령, 정보요원 추모·격려…취임 첫 국정원 방문(종합) /main/ranking/read.nhn?mid=etc&amp;sid1=111&amp;rankingType=popular_day&amp;oid=421&amp;aid=0003494043&amp;date=20180720&amp;type=1&amp;rankingSectionId=100&amp;rankingSeq=4\n",
      " 계엄사령관으로 왜 ‘서열 2위’ 육참총장을 세우려 했나  /main/ranking/read.nhn?mid=etc&amp;sid1=111&amp;rankingType=popular_day&amp;oid=028&amp;aid=0002418323&amp;date=20180720&amp;type=1&amp;rankingSectionId=100&amp;rankingSeq=5\n",
      "미중 통화전쟁 나서나…트럼프 \"위안화 급락\" vs 中 추가절… /main/ranking/read.nhn?mid=etc&amp;sid1=111&amp;rankingType=popular_day&amp;oid=001&amp;aid=0010222278&amp;date=20180720&amp;type=1&amp;rankingSectionId=101&amp;rankingSeq=1\n",
      "정부, 보물선 인양 계획에 제동…\"자금 조달 계획도 없어\" /main/ranking/read.nhn?mid=etc&amp;sid1=111&amp;rankingType=popular_day&amp;oid=214&amp;aid=0000859133&amp;date=20180720&amp;type=2&amp;rankingSectionId=101&amp;rankingSeq=2\n",
      "현대차 노사, 올해 임금협상 잠정합의(2보) /main/ranking/read.nhn?mid=etc&amp;sid1=111&amp;rankingType=popular_day&amp;oid=001&amp;aid=0010223653&amp;date=20180720&amp;type=1&amp;rankingSectionId=101&amp;rankingSeq=3\n",
      "[단독] 과천 ‘로또 아파트’ 당첨자들…중도금 대출 막히며 ‘… /main/ranking/read.nhn?mid=etc&amp;sid1=111&amp;rankingType=popular_day&amp;oid=119&amp;aid=0002270874&amp;date=20180720&amp;type=1&amp;rankingSectionId=101&amp;rankingSeq=4\n",
      "쉰들러, 정부에 3천억 소송 예고…ISD, 올해에만 4번째 /main/ranking/read.nhn?mid=etc&amp;sid1=111&amp;rankingType=popular_day&amp;oid=055&amp;aid=0000660450&amp;date=20180720&amp;type=2&amp;rankingSectionId=101&amp;rankingSeq=5\n",
      "어머니가 빼돌린 시험지로 공부한 고3 아들 \"사실 몰랐다\" /main/ranking/read.nhn?mid=etc&amp;sid1=111&amp;rankingType=popular_day&amp;oid=001&amp;aid=0010223427&amp;date=20180720&amp;type=1&amp;rankingSectionId=102&amp;rankingSeq=1\n",
      "고달픈 여름나기 현장…‘지·옥·고’를 아시나요  /main/ranking/read.nhn?mid=etc&amp;sid1=111&amp;rankingType=popular_day&amp;oid=449&amp;aid=0000155685&amp;date=20180720&amp;type=2&amp;rankingSectionId=102&amp;rankingSeq=2\n",
      "바다도 끓는다…대규모 폐사 위기에 양식장 '비상' /main/ranking/read.nhn?mid=etc&amp;sid1=111&amp;rankingType=popular_day&amp;oid=214&amp;aid=0000859136&amp;date=20180720&amp;type=2&amp;rankingSectionId=102&amp;rankingSeq=3\n",
      "‘10살 초등생과 합의 성관계?’…보습학원 원장, 성폭행 부인 /main/ranking/read.nhn?mid=etc&amp;sid1=111&amp;rankingType=popular_day&amp;oid=421&amp;aid=0003493118&amp;date=20180720&amp;type=1&amp;rankingSectionId=102&amp;rankingSeq=4\n",
      "\"둘째 못낳아\" \"일 때려칠판\" 어린이집에 분노한 엄마들 /main/ranking/read.nhn?mid=etc&amp;sid1=111&amp;rankingType=popular_day&amp;oid=025&amp;aid=0002837581&amp;date=20180720&amp;type=1&amp;rankingSectionId=102&amp;rankingSeq=5\n",
      "한반도에 '습기 폭탄'…진짜 찜통더위 온다 /main/ranking/read.nhn?mid=etc&amp;sid1=111&amp;rankingType=popular_day&amp;oid=057&amp;aid=0001269488&amp;date=20180720&amp;type=2&amp;rankingSectionId=103&amp;rankingSeq=1\n",
      "[단독] 국보급 백자라더니…값어치 '0원' 짜리 가짜 /main/ranking/read.nhn?mid=etc&amp;sid1=111&amp;rankingType=popular_day&amp;oid=214&amp;aid=0000859134&amp;date=20180720&amp;type=2&amp;rankingSectionId=103&amp;rankingSeq=2\n",
      "[날씨] 폭염 지역 확대 강화…경남 창녕 39.3도 /main/ranking/read.nhn?mid=etc&amp;sid1=111&amp;rankingType=popular_day&amp;oid=055&amp;aid=0000660415&amp;date=20180720&amp;type=2&amp;rankingSectionId=103&amp;rankingSeq=3\n",
      "[포토 에세이] 투명카누 타고 /main/ranking/read.nhn?mid=etc&amp;sid1=111&amp;rankingType=popular_day&amp;oid=053&amp;aid=0000025013&amp;date=20180720&amp;type=1&amp;rankingSectionId=103&amp;rankingSeq=4\n",
      "[기로에 선 한국 車산업] 한국GM, 5000만弗 추가 시설투자… /main/ranking/read.nhn?mid=etc&amp;sid1=111&amp;rankingType=popular_day&amp;oid=014&amp;aid=0004061908&amp;date=20180720&amp;type=1&amp;rankingSectionId=103&amp;rankingSeq=5\n",
      "트럼프 \"중국산 수입품 전액인 5천억$에 관세부과 준비\" 위… /main/ranking/read.nhn?mid=etc&amp;sid1=111&amp;rankingType=popular_day&amp;oid=001&amp;aid=0010223623&amp;date=20180720&amp;type=1&amp;rankingSectionId=104&amp;rankingSeq=1\n",
      "트럼프의 관세폭탄 불똥 ‘트럼프 모자’에도 튀었다 /main/ranking/read.nhn?mid=etc&amp;sid1=111&amp;rankingType=popular_day&amp;oid=469&amp;aid=0000315974&amp;date=20180720&amp;type=1&amp;rankingSectionId=104&amp;rankingSeq=2\n",
      "미중 무역전쟁 속 시진핑 UAE 도착…우군 확보전 '시동'(종… /main/ranking/read.nhn?mid=etc&amp;sid1=111&amp;rankingType=popular_day&amp;oid=001&amp;aid=0010223109&amp;date=20180720&amp;type=1&amp;rankingSectionId=104&amp;rankingSeq=3\n",
      "질주하는 美 경제… 성장률·일자리·기준금리 모두 한국 추… /main/ranking/read.nhn?mid=etc&amp;sid1=111&amp;rankingType=popular_day&amp;oid=015&amp;aid=0003982864&amp;date=20180720&amp;type=1&amp;rankingSectionId=104&amp;rankingSeq=4\n",
      "시댁 마당에 암매장된 日 주부...누가? 왜? /main/ranking/read.nhn?mid=etc&amp;sid1=111&amp;rankingType=popular_day&amp;oid=052&amp;aid=0001171652&amp;date=20180720&amp;type=2&amp;rankingSectionId=104&amp;rankingSeq=5\n",
      "[Science] 미생물 이식·시험관 인공수정…멸종위기 동물… /main/ranking/read.nhn?mid=etc&amp;sid1=111&amp;rankingType=popular_day&amp;oid=009&amp;aid=0004188392&amp;date=20180720&amp;type=1&amp;rankingSectionId=105&amp;rankingSeq=1\n",
      "삼성전자, 인도 시장 1위 놓고 샤오미와 초접전  /main/ranking/read.nhn?mid=etc&amp;sid1=111&amp;rankingType=popular_day&amp;oid=119&amp;aid=0002270920&amp;date=20180720&amp;type=1&amp;rankingSectionId=105&amp;rankingSeq=2\n",
      "'비장의 무기'는 황자총통… 한 번에 쇠구슬 20발 발사해 적… /main/ranking/read.nhn?mid=etc&amp;sid1=111&amp;rankingType=popular_day&amp;oid=015&amp;aid=0003982887&amp;date=20180720&amp;type=1&amp;rankingSectionId=105&amp;rankingSeq=3\n",
      "새 폰에 잔뜩 깔린 선탑재앱.. 국내외 ‘끼워팔기’ 규제 논란 /main/ranking/read.nhn?mid=etc&amp;sid1=111&amp;rankingType=popular_day&amp;oid=014&amp;aid=0004061890&amp;date=20180720&amp;type=1&amp;rankingSectionId=105&amp;rankingSeq=4\n",
      "\"거북선 19개砲 갖춰 막강화력… 전면부 대형 화포는 획기적… /main/ranking/read.nhn?mid=etc&amp;sid1=111&amp;rankingType=popular_day&amp;oid=015&amp;aid=0003982872&amp;date=20180720&amp;type=1&amp;rankingSectionId=105&amp;rankingSeq=5\n"
     ]
    }
   ],
   "source": [
    "import re\n",
    "# goto News Service\n",
    "driver.get(\"https://news.naver.com/main/ranking/popularDay.nhn\")\n",
    "# Crawling News article\n",
    "p = \"<dt>\\s*?<a\\shref=\\\"(.*?)\\\".*?>(.*?)<\\/a>\"\n",
    "temp = re.findall(p,driver.page_source)\n",
    "\n",
    "newsList = re.findall(p,driver.page_source)\n",
    "for news in newsList: \n",
    "    print(news[1],news[0])"
   ]
  },
  {
   "cell_type": "code",
   "execution_count": 17,
   "metadata": {},
   "outputs": [],
   "source": [
    "driver.get(\"https://news.naver.com\"+newsList[1][0].replace(\"&amp;\",\"&\"))"
   ]
  },
  {
   "cell_type": "code",
   "execution_count": 18,
   "metadata": {},
   "outputs": [],
   "source": [
    "driver.find_element_by_css_selector(\".simplecmt_links > a\").click()"
   ]
  },
  {
   "cell_type": "code",
   "execution_count": 19,
   "metadata": {},
   "outputs": [],
   "source": [
    "driver.find_element_by_id(\"cbox_module__write_textarea\").send_keys(\"좋은 기사에요.\")"
   ]
  }
 ],
 "metadata": {
  "kernelspec": {
   "display_name": "Python 3",
   "language": "python",
   "name": "python3"
  },
  "language_info": {
   "codemirror_mode": {
    "name": "ipython",
    "version": 3
   },
   "file_extension": ".py",
   "mimetype": "text/x-python",
   "name": "python",
   "nbconvert_exporter": "python",
   "pygments_lexer": "ipython3",
   "version": "3.6.5"
  }
 },
 "nbformat": 4,
 "nbformat_minor": 2
}
