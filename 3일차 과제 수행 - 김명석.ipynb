{
 "cells": [
  {
   "cell_type": "markdown",
   "metadata": {},
   "source": [
    "## Exercise61:Average\n",
    "\n"
   ]
  },
  {
   "cell_type": "code",
   "execution_count": 7,
   "metadata": {},
   "outputs": [
    {
     "name": "stdout",
     "output_type": "stream",
     "text": [
      "input string \n",
      "You should input number not string. \n",
      "\n",
      "You should input number not string. \n",
      "5\n",
      "4\n",
      "3\n",
      "2\n",
      "1\n",
      "0\n",
      "Aveage is 3.0\n"
     ]
    }
   ],
   "source": [
    "# computes the average\n",
    "\n",
    "num_list = []\n",
    "\n",
    "while True:\n",
    "    input_line = input()\n",
    "    input_num = int(input_line) if input_line.isnumeric() else None\n",
    "    \n",
    "    if input_num == None:\n",
    "        print(\"You should input number not string. \")\n",
    "    elif input_num == 0:\n",
    "        print(\"Aveage is\", sum(num_list)/len(num_list))\n",
    "        break\n",
    "    else:\n",
    "        num_list.append(input_num)"
   ]
  },
  {
   "cell_type": "markdown",
   "metadata": {},
   "source": [
    "## Exercise63:Temperature Conversion Table"
   ]
  },
  {
   "cell_type": "code",
   "execution_count": 8,
   "metadata": {},
   "outputs": [
    {
     "name": "stdout",
     "output_type": "stream",
     "text": [
      "Index \t C \t F\n",
      "0 \t 0 \t -17.77777777777778\n",
      "10 \t 10 \t -12.222222222222221\n",
      "20 \t 20 \t -6.666666666666666\n",
      "30 \t 30 \t -1.1111111111111112\n",
      "40 \t 40 \t 4.444444444444445\n",
      "50 \t 50 \t 10.0\n",
      "60 \t 60 \t 15.555555555555555\n",
      "70 \t 70 \t 21.11111111111111\n",
      "80 \t 80 \t 26.666666666666664\n",
      "90 \t 90 \t 32.22222222222222\n",
      "100 \t 100 \t 37.77777777777778\n"
     ]
    }
   ],
   "source": [
    "print(\"Index\",\"\\t\",\"C\",\"\\t\",'F')\n",
    "for i in range(0,101,10):\n",
    "    print(i,\"\\t\",i, \"\\t\", ((i-32)/1.8 ))"
   ]
  },
  {
   "cell_type": "markdown",
   "metadata": {},
   "source": [
    "## Exercise66:Compute a Grade Point Average"
   ]
  },
  {
   "cell_type": "code",
   "execution_count": 5,
   "metadata": {},
   "outputs": [
    {
     "name": "stdout",
     "output_type": "stream",
     "text": [
      "A\n",
      "B\n",
      "C\n",
      "\n",
      "Your average grade point is  3.0\n"
     ]
    }
   ],
   "source": [
    "grade_points = {'A+':4.,'A':4.,'A-':3.7,'B+':3.3,'B':3.0,\"B-\":2.7,\"C+\":2.3,\"C\":2.,\"C-\":1.7,\"D+\":1.3,\"D\":1.,\"F\":0}\n",
    "\n",
    "grade_points.keys()\n",
    "points = []\n",
    "while True:\n",
    "    input_grade = input() \n",
    "    if input_grade is '':\n",
    "        break\n",
    "    elif input_grade not in grade_points.keys():\n",
    "        print(\"You should input uppercase grade Like A+\")\n",
    "    else:\n",
    "        points.append(grade_points[input_grade])\n",
    "        \n",
    "print(\"Your average grade point is \",sum(points)/len(points))"
   ]
  },
  {
   "cell_type": "markdown",
   "metadata": {},
   "source": [
    "## Exercise67:AdmissionPrice"
   ]
  },
  {
   "cell_type": "code",
   "execution_count": 21,
   "metadata": {},
   "outputs": [
    {
     "name": "stdout",
     "output_type": "stream",
     "text": [
      "3\n",
      "3\n",
      "3\n",
      "\n",
      "Your total admission fee is $ 42.00\n"
     ]
    }
   ],
   "source": [
    "# 2 years No charge\n",
    "# 3 ~ 12   charge $14.00\n",
    "# over 65 $18.00\n",
    "# others $23.00\n",
    "\n",
    "num_list = []\n",
    "\n",
    "while True:\n",
    "    input_line = input()\n",
    "    if input_line == '':\n",
    "        break\n",
    "        \n",
    "    input_num = int(input_line) if input_line.isnumeric() else None\n",
    "    if input_num == None:\n",
    "        print(\"You should input number not string. \")\n",
    "    else:\n",
    "        num_list.append(input_num)\n",
    "\n",
    "total_admission = 0\n",
    "for age in num_list:\n",
    "    if age < 2:\n",
    "        total_admission = total_admission\n",
    "    elif 2<age<12:\n",
    "        total_admission = total_admission + 14.\n",
    "    elif age>64:    \n",
    "        total_admission = total_admission + 18.\n",
    "    else:\n",
    "        total_admission = total_admission + 23.\n",
    "\n",
    "              \n",
    "print(\"Your total admission fee is $\",format(total_admission,\".2f\"))"
   ]
  },
  {
   "cell_type": "markdown",
   "metadata": {},
   "source": [
    "## Exercise72:Is a String a Palindrome?"
   ]
  },
  {
   "cell_type": "code",
   "execution_count": 19,
   "metadata": {},
   "outputs": [
    {
     "name": "stdout",
     "output_type": "stream",
     "text": [
      "civic\n",
      "civic is Palindrome\n"
     ]
    }
   ],
   "source": [
    "def isPalindrome(argStr):\n",
    "    if argStr == argStr[::-1]:\n",
    "        return True\n",
    "    else:\n",
    "        return False\n",
    "    \n",
    "input_str = input()\n",
    "if isPalindrome(input_str):\n",
    "    print(input_str,\"is Palindrome\")\n",
    "else:\n",
    "    print(input_str, \"is not Palindrome\")"
   ]
  },
  {
   "cell_type": "markdown",
   "metadata": {},
   "source": [
    "## Exercise74:Multiplication Table"
   ]
  },
  {
   "cell_type": "code",
   "execution_count": null,
   "metadata": {},
   "outputs": [],
   "source": [
    "print('\\t',1,'\\t',2,'\\t',3,'\\t',4,'\\t',5,'\\t',6,'\\t',7,'\\t',8,'\\t',9, '\\t',10,'\\n')\n",
    "for i in range(1,11):\n",
    "    print(i,end='')\n",
    "    for j in range(1,11):\n",
    "        print('\\t',j*i,end='')\n",
    "    print('\\n')    "
   ]
  },
  {
   "cell_type": "markdown",
   "metadata": {},
   "source": [
    "## Exercise75:Greatest Common Divisor"
   ]
  },
  {
   "cell_type": "code",
   "execution_count": 1,
   "metadata": {},
   "outputs": [
    {
     "name": "stdout",
     "output_type": "stream",
     "text": [
      "18\n",
      "12\n",
      "Greatest Common Divisor of 18 12 is 6\n"
     ]
    }
   ],
   "source": [
    "###### 최대 공약수\n",
    "def findGCD(n,m):\n",
    "    while m:\n",
    "        n , m = m , n%m\n",
    "    return n\n",
    "\n",
    "while True:\n",
    "    input_line1 = input()\n",
    "    input_num1 = int(input_line1) if input_line1.isnumeric() else None\n",
    "    if input_num1 == None:\n",
    "        print(\"You should input number\")\n",
    "    else:\n",
    "        input_line2 = input()\n",
    "        input_num2 = int(input_line2) if input_line2.isnumeric() else None\n",
    "        if input_num2 == None:\n",
    "            print(\"You should input number\")\n",
    "        else: \n",
    "            print(\"Greatest Common Divisor of\",input_num1,input_num2,'is',findGCD(input_num1,input_num2))\n",
    "            break"
   ]
  },
  {
   "cell_type": "markdown",
   "metadata": {},
   "source": [
    "## Exercise77:Binary to Decimal\n"
   ]
  },
  {
   "cell_type": "code",
   "execution_count": 25,
   "metadata": {},
   "outputs": [
    {
     "name": "stdout",
     "output_type": "stream",
     "text": [
      "1001\n",
      "Decimal for 1001 is 9\n"
     ]
    }
   ],
   "source": [
    "check_list = ('2','3','4','5','6','7','8','9')\n",
    "run_flag=True\n",
    "input_line = input()\n",
    "for check in check_list:\n",
    "    if check in input_line:\n",
    "        print(\"You should input binary number not decimal number.\")\n",
    "        run_flag=False\n",
    "if run_flag:\n",
    "\n",
    "    input_num = int(input_line,2) if input_line.isnumeric() else None\n",
    "    if input_num == None:\n",
    "        print(\"You should input number not string. \")\n",
    "    else:\n",
    "        print(\"Decimal for\",str(bin(input_num))[2:],\"is\",input_num)"
   ]
  },
  {
   "cell_type": "markdown",
   "metadata": {},
   "source": [
    "## Exercise78:Decimal to Binary"
   ]
  },
  {
   "cell_type": "code",
   "execution_count": 12,
   "metadata": {},
   "outputs": [
    {
     "name": "stdout",
     "output_type": "stream",
     "text": [
      "33\n",
      "binary for 33 is 100001\n"
     ]
    }
   ],
   "source": [
    "input_line = input()\n",
    "input_num = int(input_line) if input_line.isnumeric() else None\n",
    "if input_num == None:\n",
    "    print(\"You should input number not string. \")\n",
    "else:\n",
    "    print(\"binary for\",input_num,\"is\", str(bin(input_num))[2:])\n"
   ]
  }
 ],
 "metadata": {
  "kernelspec": {
   "display_name": "Python 3",
   "language": "python",
   "name": "python3"
  },
  "language_info": {
   "codemirror_mode": {
    "name": "ipython",
    "version": 3
   },
   "file_extension": ".py",
   "mimetype": "text/x-python",
   "name": "python",
   "nbconvert_exporter": "python",
   "pygments_lexer": "ipython3",
   "version": "3.6.5"
  }
 },
 "nbformat": 4,
 "nbformat_minor": 2
}
