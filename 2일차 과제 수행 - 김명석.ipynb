{
 "cells": [
  {
   "cell_type": "code",
   "execution_count": 4,
   "metadata": {},
   "outputs": [
    {
     "name": "stdout",
     "output_type": "stream",
     "text": [
      "Frame took 0.0 seconds\n"
     ]
    }
   ],
   "source": [
    "#time Checker\n",
    "import time \n",
    "last_time = time.time()\n",
    "print('Frame took {} seconds'.format(time.time()-last_time))"
   ]
  },
  {
   "cell_type": "markdown",
   "metadata": {},
   "source": [
    "## 1. Exercise105:ReverseOrder\n",
    "Write a program that reads integers from the user and stores them in a list. Use 0 as a sentinel value to mark the end of the input. Once all of the values have been read your program should display them (except for the 0) inreverse order,with one value appearing on each line."
   ]
  },
  {
   "cell_type": "code",
   "execution_count": 2,
   "metadata": {},
   "outputs": [
    {
     "name": "stdout",
     "output_type": "stream",
     "text": [
      "1\n",
      "[1]\n",
      "2\n",
      "[1, 2]\n",
      "3\n",
      "[1, 2, 3]\n",
      "4\n",
      "[1, 2, 3, 4]\n",
      "5\n",
      "[1, 2, 3, 4, 5]\n",
      "6\n",
      "[1, 2, 3, 4, 5, 6]\n",
      "0\n",
      "Print result\n",
      "6\n",
      "5\n",
      "4\n",
      "3\n",
      "2\n",
      "1\n"
     ]
    }
   ],
   "source": [
    "num_list = []\n",
    "\n",
    "while True :\n",
    "    input_line = input()\n",
    "    input_num = int(input_line) if input_line.isnumeric() else None\n",
    "    if input_num == None:\n",
    "        print(\"You should input number!\")\n",
    "    elif input_num == 0:\n",
    "        print(\"Print result\")\n",
    "        for i in num_list[::-1]:\n",
    "            print(i)\n",
    "        break\n",
    "    else: \n",
    "        num_list.append(input_num)\n",
    "        print(num_list)\n",
    "        "
   ]
  },
  {
   "cell_type": "markdown",
   "metadata": {},
   "source": [
    "## 2. Exercise107:AvoidingDuplicates\n",
    "In this exercise, you will create a program that reads words from the user until the user enters a blank line. After the user enters a blank line your program should display each word entered by the user exactly once. The words should be displayed in the same order that they were entered. For example, if the user enters:\n",
    "- first \n",
    "- second \n",
    "- first \n",
    "- third \n",
    "- second\n",
    "\n",
    "then your program should display:\n",
    "- first \n",
    "- second \n",
    "- third"
   ]
  },
  {
   "cell_type": "code",
   "execution_count": 7,
   "metadata": {},
   "outputs": [
    {
     "name": "stdout",
     "output_type": "stream",
     "text": [
      "1\n",
      "2\n",
      "1\n",
      "3\n",
      "2\n",
      "3\n",
      "1\n",
      "4\n",
      "3\n",
      "2\n",
      "5\n",
      "4\n",
      "3\n",
      "\n",
      "1\n",
      "2\n",
      "3\n",
      "4\n",
      "5\n"
     ]
    }
   ],
   "source": [
    "#reads words from the user\n",
    "#until the user enters a blank line.\n",
    "#your program should display each word entered by the user exactly once.\n",
    "# The words should be displayed in the same order that they were entered\n",
    "\n",
    "words_set = []\n",
    "\n",
    "while True :\n",
    "    input_word = input()  \n",
    "    if input_word == '':\n",
    "        for word in words_set:\n",
    "            print(word)\n",
    "        break\n",
    "    else: \n",
    "        input_word = input_word.rstrip()\n",
    "        if input_word not in words_set:\n",
    "            words_set.append(input_word)"
   ]
  },
  {
   "cell_type": "markdown",
   "metadata": {},
   "source": [
    "## 3. Exercise108: Negatives, Zeros and Positives"
   ]
  },
  {
   "cell_type": "code",
   "execution_count": 8,
   "metadata": {},
   "outputs": [
    {
     "name": "stdout",
     "output_type": "stream",
     "text": [
      "4\n",
      "-4\n",
      "5\n",
      "2\n",
      "0\n",
      "0\n",
      "00\n",
      "0\n",
      "12\n",
      "-99\n",
      "\n",
      "[-4, -99, 0, 0, 0, 0, 4, 5, 2, 12]\n"
     ]
    }
   ],
   "source": [
    "neg_val = []\n",
    "zero_val = []\n",
    "pos_val = []\n",
    "all_val = []\n",
    "while True :\n",
    "    input_line = input()\n",
    "    #Break sign\n",
    "    if input_line == '' :\n",
    "        all_val.extend(neg_val)\n",
    "        all_val.extend(zero_val)\n",
    "        all_val.extend(pos_val)\n",
    "        print(all_val)\n",
    "        break\n",
    "    \n",
    "    #Ccnvert string number to intager\n",
    "    if input_line.isnumeric():\n",
    "        input_num = int(input_line)\n",
    "    elif input_line[0] == '-' and input_line[1:].isnumeric() :\n",
    "        input_num = int(input_line)\n",
    "    else:\n",
    "        input_num = None\n",
    "\n",
    "    #Sort out numbers among positive, negative, zeros \n",
    "    if input_num == None:\n",
    "        print(\"You should input number!\")\n",
    "    elif input_num <0 : \n",
    "        neg_val.append(input_num)\n",
    "    elif input_num == 0 : \n",
    "        zero_val.append(input_num)\n",
    "    else :\n",
    "        pos_val.append(input_num)"
   ]
  },
  {
   "cell_type": "markdown",
   "metadata": {},
   "source": [
    "\n",
    "## 4. Exercise110: Perfect Numbers\n"
   ]
  },
  {
   "cell_type": "code",
   "execution_count": 11,
   "metadata": {},
   "outputs": [
    {
     "name": "stdout",
     "output_type": "stream",
     "text": [
      "6 is Perfect Number\n",
      "28 is Perfect Number\n",
      "496 is Perfect Number\n",
      "8128 is Perfect Number\n",
      "Frame took 3.310103178024292 seconds\n"
     ]
    }
   ],
   "source": [
    "import time \n",
    "# last_time = time.time()\n",
    "# print('Frame took {} seconds'.format(time.time()-last_time))\n",
    "def isPerfectNumber1(num):\n",
    "    div_num = []\n",
    "    for i in range(1,num):\n",
    "        if num%i == 0:\n",
    "            div_num.append(i)\n",
    "    if sum(div_num) == num:\n",
    "        return True\n",
    "    else:\n",
    "        return False\n",
    "    \n",
    "last_time = time.time()\n",
    "for i in range(1,10001):\n",
    "    if isPerfectNumber1(i):\n",
    "        print(i, 'is Perfect Number')\n",
    "print('Frame took {} seconds'.format(time.time()-last_time))"
   ]
  },
  {
   "cell_type": "code",
   "execution_count": null,
   "metadata": {},
   "outputs": [],
   "source": [
    "\n",
    "    "
   ]
  },
  {
   "cell_type": "markdown",
   "metadata": {},
   "source": [
    "## 5. Exercise113: Formatting a List"
   ]
  },
  {
   "cell_type": "code",
   "execution_count": 12,
   "metadata": {},
   "outputs": [
    {
     "name": "stdout",
     "output_type": "stream",
     "text": [
      "asd asd as \n",
      "asdf sdaf \n",
      "sdfsdfsd \n",
      "\n",
      "asd asd as, asdf sdaf and sdfsdfsd\n",
      "Frame took 0.0 seconds\n"
     ]
    }
   ],
   "source": [
    "import time \n",
    "# last_time = time.time()\n",
    "# print('Frame took {} seconds'.format(time.time()-last_time))\n",
    "def formattingList(arg_list):\n",
    "    \n",
    "    if len(arg_list) == 0 :\n",
    "        items =''\n",
    "    elif len(arg_list) == 1 :\n",
    "        items = arg_list[0]\n",
    "    elif len(arg_list) == 2 :\n",
    "        items = arg_list[0] + ' and ' +arg_list[1]\n",
    "    else:\n",
    "        items=arg_list[0]\n",
    "        for arg in range(1,len(arg_list)-1):\n",
    "            items = items +', '+arg_list[arg]\n",
    "        else:\n",
    "            items = items + ' and '+arg_list[arg+1]\n",
    "    return items\n",
    "\n",
    "words_set = []\n",
    "\n",
    "while True :\n",
    "    input_word = input()  \n",
    "    if input_word == '':\n",
    "        last_time = time.time()\n",
    "        print(formattingList(words_set))\n",
    "        print('Frame took {} seconds'.format(time.time()-last_time))\n",
    "        break\n",
    "    else: \n",
    "        input_word = input_word.rstrip()\n",
    "        words_set.append(input_word)"
   ]
  },
  {
   "cell_type": "markdown",
   "metadata": {},
   "source": [
    "## 6. Exercise114: Random Lottery Numbers"
   ]
  },
  {
   "cell_type": "code",
   "execution_count": 156,
   "metadata": {},
   "outputs": [
    {
     "name": "stdout",
     "output_type": "stream",
     "text": [
      "[3, 18, 24, 28, 33, 48]\n",
      "Frame took 0.0009975433349609375 seconds\n"
     ]
    }
   ],
   "source": [
    "import time \n",
    "last_time = time.time()\n",
    "\n",
    "import random as rd\n",
    "numbers = []\n",
    "for i in range(6):\n",
    "    while True:\n",
    "        gen = int(rd.random()*50)\n",
    "        if gen not in numbers :\n",
    "            numbers.append(gen)\n",
    "            break\n",
    "\n",
    "print(sorted(numbers))\n",
    "\n",
    "print('Frame took {} seconds'.format(time.time()-last_time))"
   ]
  },
  {
   "cell_type": "markdown",
   "metadata": {},
   "source": [
    "## Exercise134:UniqueCharacters\n"
   ]
  },
  {
   "cell_type": "code",
   "execution_count": 54,
   "metadata": {},
   "outputs": [
    {
     "name": "stdout",
     "output_type": "stream",
     "text": [
      "gkfgna jngjrnfsvnkmb\n",
      "12 unique charaters\n"
     ]
    }
   ],
   "source": [
    "temp_set = set()\n",
    "temp_list = list()\n",
    "input_str = input()\n",
    "temp_list.extend(input_str)\n",
    "for i in temp_list:\n",
    "    temp_set.add(i)\n",
    "print(str(len(temp_set)) +' unique charaters')"
   ]
  },
  {
   "cell_type": "markdown",
   "metadata": {},
   "source": [
    "## Exercise135: Anagrams"
   ]
  },
  {
   "cell_type": "code",
   "execution_count": 5,
   "metadata": {},
   "outputs": [
    {
     "name": "stdout",
     "output_type": "stream",
     "text": [
      "ababa\n",
      "baba\n",
      "it is not Anagrams\n"
     ]
    }
   ],
   "source": [
    "def anagram(s1,s2):\n",
    "    alist = list(s2)\n",
    "\n",
    "    pos1 = 0\n",
    "    stillOK = True\n",
    "\n",
    "    while pos1 < len(s1) and stillOK:\n",
    "        pos2 = 0\n",
    "        found = False\n",
    "        while pos2 < len(alist) and not found:\n",
    "            if s1[pos1] == alist[pos2]:\n",
    "                found = True\n",
    "            else:\n",
    "                pos2 = pos2 + 1\n",
    "\n",
    "        if found:\n",
    "            alist[pos2] = None\n",
    "        else:\n",
    "            stillOK = False\n",
    "\n",
    "        pos1 = pos1 + 1\n",
    "\n",
    "    return stillOK\n",
    "\n",
    "input_str1 = input()\n",
    "input_str2 = input()\n",
    "\n",
    "\n",
    "\n",
    "if len(input_str1) != len(input_str2):\n",
    "    print(\"it is not Anagrams\")\n",
    "else: \n",
    "    if anagram(input_str1,input_str2):\n",
    "        print(\"it is Anagrams\")\n",
    "    else:\n",
    "        print(\"it is not Anagrams\")\n",
    "    \n",
    "    \n",
    "                "
   ]
  },
  {
   "cell_type": "code",
   "execution_count": null,
   "metadata": {},
   "outputs": [],
   "source": []
  },
  {
   "cell_type": "code",
   "execution_count": null,
   "metadata": {},
   "outputs": [],
   "source": []
  },
  {
   "cell_type": "code",
   "execution_count": null,
   "metadata": {},
   "outputs": [],
   "source": []
  }
 ],
 "metadata": {
  "kernelspec": {
   "display_name": "Python 3",
   "language": "python",
   "name": "python3"
  },
  "language_info": {
   "codemirror_mode": {
    "name": "ipython",
    "version": 3
   },
   "file_extension": ".py",
   "mimetype": "text/x-python",
   "name": "python",
   "nbconvert_exporter": "python",
   "pygments_lexer": "ipython3",
   "version": "3.6.5"
  }
 },
 "nbformat": 4,
 "nbformat_minor": 2
}
