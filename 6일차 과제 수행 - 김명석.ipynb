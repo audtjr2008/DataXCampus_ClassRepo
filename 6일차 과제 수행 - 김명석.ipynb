{
 "cells": [
  {
   "cell_type": "markdown",
   "metadata": {},
   "source": [
    "## Exercise 129:Two Dice Simulation"
   ]
  },
  {
   "cell_type": "code",
   "execution_count": 25,
   "metadata": {},
   "outputs": [
    {
     "name": "stdout",
     "output_type": "stream",
     "text": [
      "Total \t Simulated \t Expected\n",
      "\t Percent \t Percent\n",
      "2 \t 2.20 \t\t 2.78\n",
      "3 \t 5.20 \t\t 5.36\n",
      "4 \t 8.00 \t\t 8.33\n",
      "5 \t 12.10 \t\t 11.11\n",
      "6 \t 12.70 \t\t 13.89\n",
      "7 \t 16.50 \t\t 16.67\n",
      "8 \t 14.90 \t\t 13.89\n",
      "9 \t 10.90 \t\t 11.11\n",
      "10 \t 8.90 \t\t 8.33\n",
      "11 \t 5.10 \t\t 5.56\n",
      "12 \t 3.50 \t\t 2.78\n"
     ]
    }
   ],
   "source": [
    "import random as rand\n",
    "def roll_dice():\n",
    "    return rand.randint(1,6) + rand.randint(1,6)\n",
    "cnt_dict = dict({2:0,3:0,4:0,5:0,6:0,7:0,8:0,9:0,10:0,11:0,12:0})\n",
    "ex_per = [2.78,5.36,8.33,11.11,13.89,16.67,13.89,11.11,8.33,5.56,2.78]\n",
    "for i in range(1000):\n",
    "    cnt_dict[roll_dice()] +=1\n",
    "print(\"Total\",\"\\t\",\"Simulated\",'\\t', \"Expected\")\n",
    "print(\"\\t\",\"Percent\",'\\t', \"Percent\")\n",
    "for i in cnt_dict:\n",
    "    print(i,\"\\t\",format((cnt_dict[i]/1000)*100,\".2f\"),'\\t\\t', ex_per[i-2])\n"
   ]
  },
  {
   "cell_type": "markdown",
   "metadata": {},
   "source": [
    "## Exercise 130:Text Messaging"
   ]
  },
  {
   "cell_type": "code",
   "execution_count": 64,
   "metadata": {},
   "outputs": [
    {
     "name": "stdout",
     "output_type": "stream",
     "text": [
      "Hello, World!\n",
      "4433555555666110966677755531111\n"
     ]
    }
   ],
   "source": [
    "symbol = {\".\":\"1\",\",\":\"11\",\"?\":\"111\",\"!\":\"1111\",\":\":\"11111\",\n",
    "          \"A\":\"2\",\"B\":\"22\",\"C\":\"222\",\n",
    "          \"D\":\"3\",\"E\":\"33\",\"F\":\"333\",\n",
    "          \"G\":\"4\",\"H\":\"44\",\"I\":\"444\",\n",
    "          \"J\":\"5\",\"K\":\"55\",\"L\":\"555\",\n",
    "          \"M\":\"6\",\"N\":\"66\",\"O\":\"666\",\n",
    "          \"P\":\"7\",\"Q\":\"77\",\"R\":\"777\",\"S\":\"7777\",\n",
    "          \"T\":\"8\",\"U\":\"88\",\"V\":\"888\",\n",
    "          \"W\":\"9\",\"X\":\"99\",\"Y\":\"999\",\"Z\":\"9999\",    \n",
    "          \" \":\"0\"\n",
    "         }\n",
    "\n",
    "str_input = input()\n",
    "str_convert = ''\n",
    "for i in str_input:\n",
    "    if i.upper() in symbol:\n",
    "        str_convert = str_convert + symbol[i.upper()]\n",
    "        \n",
    "print(str_convert)"
   ]
  },
  {
   "cell_type": "markdown",
   "metadata": {},
   "source": [
    "## Exercise 131: Morse Code"
   ]
  },
  {
   "cell_type": "code",
   "execution_count": 1,
   "metadata": {},
   "outputs": [
    {
     "name": "stdout",
     "output_type": "stream",
     "text": [
      "Hello, World!\n",
      ".... . .-.. .-.. --- .-- --- .-. .-.. -.. \n"
     ]
    }
   ],
   "source": [
    "morse = {\n",
    "    \"A\": \".-\",   \"J\": \".---\",   \"S\": \"...\",  \"1\": \".----\",\n",
    "    \"B\": \"-...\", \"K\": \"-.-\",    \"T\": \"-\",    \"2\": \"..---\",\n",
    "    \"C\": \"-.-.\", \"L\": \".-..\",   \"U\": \"..-\",  \"3\": \"...--\",    \n",
    "    \"D\": \"-..\",  \"M\": \"--\",     \"V\": \"...-\", \"4\": \"....-\",\n",
    "    \"E\": \".\",    \"N\": \"-.\",     \"W\": \".--\",  \"5\": \".....\",\n",
    "    \"F\": \"..-.\", \"O\": \"---\",    \"X\": \"-..-\", \"6\": \"-....\",\n",
    "    \"G\": \"--.\",  \"P\": \".--.\",   \"Y\": \"-.--\", \"7\": \"--...\",\n",
    "    \"H\": \"....\", \"Q\": \"--.-\",   \"Z\": \"--..\", \"8\": \"- - -..\",\n",
    "    \"I\": \"..\",   \"R\": \".-.\",    \"0\": \"-----\",\"9\": \"----.\"\n",
    "}\n",
    "\n",
    "str_input = input()\n",
    "str_convert = ''\n",
    "for i in str_input:\n",
    "    if i.upper() in morse:\n",
    "        str_convert = str_convert +morse[i.upper()]+' '\n",
    "        \n",
    "print(str_convert)"
   ]
  },
  {
   "cell_type": "markdown",
   "metadata": {},
   "source": [
    "## Exercise 132: Postal Codes"
   ]
  },
  {
   "cell_type": "code",
   "execution_count": 68,
   "metadata": {},
   "outputs": [
    {
     "name": "stdout",
     "output_type": "stream",
     "text": [
      "T2N1N4\n",
      "the postal code is for a urban address in Alberta.\n"
     ]
    }
   ],
   "source": [
    "#Canadian postal code A2D3F3\\\n",
    "\n",
    "province = {\n",
    "    'A':\"Newfoundland\",\n",
    "    'B':\"Nova Scotia\",\n",
    "    'C':\"Prince Edward Island\",\n",
    "    'E':\"New Brunswick\",\n",
    "    'G':\"Quebec\",\n",
    "    'H':\"Quebec\",\n",
    "    'J':\"Quebec\",\n",
    "    'K':\"Ontario\",\n",
    "    'L':\"Ontario\",\n",
    "    'M':\"Ontario\",\n",
    "    'N':\"Ontario\",\n",
    "    'P':\"Ontario\",\n",
    "    'R':\"Manitoba\",\n",
    "    'S':\"Saskatchewan\",\n",
    "    'T':\"Alberta\",\n",
    "    'V':\"British Columbia\",\n",
    "    'X':\"Nunavaut or Northwest\",\n",
    "    'Y':\"Yukon\"\n",
    "}\n",
    "no_valid = ['D', 'F', 'I', 'O', 'Q', 'U', 'W', 'Z']\n",
    "isRural = {0:\"rural\",1:\"urban\"}\n",
    "\n",
    "\n",
    "str_input = input()\n",
    "if len(str_input) is not 6:\n",
    "    print(\"not 6 character\")\n",
    "elif str_input[0].upper() in no_valid:\n",
    "    print(\"No valid postal codes currently begin with D, F, I, O, Q, U, W, or Z.\")\n",
    "elif not any([str_input[i].isnumeric() for i in range(1,6,2)]):\n",
    "    print(\"the second, fourth and sixth characters are numbers.\")\n",
    "elif not any([str_input[i].isalpha() for i in range(0,6,2)]):\n",
    "    print(\"the first, third and fifth characters are letters\")\n",
    "else: \n",
    "    print(\"the postal code is for a\",isRural[int(str_input[3])],\n",
    "          'address in',province[str_input[0]]+'.')"
   ]
  }
 ],
 "metadata": {
  "kernelspec": {
   "display_name": "Python 3",
   "language": "python",
   "name": "python3"
  },
  "language_info": {
   "codemirror_mode": {
    "name": "ipython",
    "version": 3
   },
   "file_extension": ".py",
   "mimetype": "text/x-python",
   "name": "python",
   "nbconvert_exporter": "python",
   "pygments_lexer": "ipython3",
   "version": "3.6.5"
  }
 },
 "nbformat": 4,
 "nbformat_minor": 2
}
