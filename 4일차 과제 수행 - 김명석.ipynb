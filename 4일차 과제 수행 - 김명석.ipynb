{
 "cells": [
  {
   "cell_type": "markdown",
   "metadata": {},
   "source": [
    "# Exercise82: Taxi Fare"
   ]
  },
  {
   "cell_type": "code",
   "execution_count": 1,
   "metadata": {},
   "outputs": [
    {
     "name": "stdout",
     "output_type": "stream",
     "text": [
      "0 km: 4.0\n",
      "1 km: 5.785714285714286\n",
      "2 km: 7.571428571428571\n",
      "3 km: 9.357142857142858\n",
      "4 km: 11.142857142857142\n"
     ]
    }
   ],
   "source": [
    "# a base fare of $4.00, plus $0.25 for every 140 meters\n",
    "def taxi_fare(traveled_kilo):\n",
    "    return 4.+ 0.25*((traveled_kilo*1000)/140)\n",
    "\n",
    "for i in range(5) :\n",
    "    print(i,\"km:\",taxi_fare(i))"
   ]
  },
  {
   "cell_type": "markdown",
   "metadata": {},
   "source": [
    "# Exercise84 : Median of Three Value"
   ]
  },
  {
   "cell_type": "code",
   "execution_count": 7,
   "metadata": {},
   "outputs": [
    {
     "name": "stdout",
     "output_type": "stream",
     "text": [
      "11\n",
      "1\n",
      "2\n",
      "Median is 2\n"
     ]
    }
   ],
   "source": [
    "def median(num1,num2,num3):\n",
    "    lst = list([num1,num2,num3])\n",
    "    lst = sorted(lst)\n",
    "    return lst[1]\n",
    "\n",
    "cnt_num= 0\n",
    "num_list=[]\n",
    "while True:\n",
    "    if cnt_num != 3:\n",
    "        input_line = input()\n",
    "        input_num = int(input_line) if input_line.isnumeric() else None\n",
    "    \n",
    "    if input_num == None:\n",
    "        print(\"You should input number not string. \")\n",
    "    elif cnt_num == 3:\n",
    "        print(\"Median is\", median(num_list[0],num_list[1],num_list[2]))\n",
    "        break\n",
    "    else:\n",
    "        num_list.append(input_num)\n",
    "        cnt_num += 1"
   ]
  },
  {
   "cell_type": "markdown",
   "metadata": {},
   "source": [
    "## Exercise85: Convert an Integer to its Ordinal Number"
   ]
  },
  {
   "cell_type": "code",
   "execution_count": 12,
   "metadata": {},
   "outputs": [
    {
     "name": "stdout",
     "output_type": "stream",
     "text": [
      "First\n",
      "Second\n",
      "Third\n",
      "Fourth\n",
      "Fifth\n",
      "Sixth\n",
      "Seventh\n",
      "Eighth\n",
      "Nineth\n",
      "Tenth\n",
      "Eleventh\n",
      "Twelfth\n"
     ]
    }
   ],
   "source": [
    "def get_ordinal(num):\n",
    "    ordinal = {1:\"First\",2:\"Second\",3:\"Third\",4:\"Fourth\",5:\"Fifth\",6:\"Sixth\", 7:\"Seventh\",8:\"Eighth\",9:\"Nineth\",10:\"Tenth\", 11:\"Eleventh\",12:\"Twelfth\"}\n",
    "    if num in ordinal:\n",
    "        return ordinal[num]\n",
    "    else:\n",
    "        return \"\"\n",
    "\n",
    "def main():\n",
    "    for i in range(1,13):\n",
    "        print(get_ordinal(i))\n",
    "        \n",
    "if __name__ == '__main__':\n",
    "    main()"
   ]
  },
  {
   "cell_type": "markdown",
   "metadata": {},
   "source": [
    "## Exercise88: Is it a Valid Triangle?"
   ]
  },
  {
   "cell_type": "code",
   "execution_count": 15,
   "metadata": {},
   "outputs": [
    {
     "name": "stdout",
     "output_type": "stream",
     "text": [
      "1\n",
      "2\n",
      "5\n",
      "It is not valid triangle\n"
     ]
    }
   ],
   "source": [
    "def is_valid_triangle(num1,num2,num3):\n",
    "    lst = list([num1,num2,num3])\n",
    "    lst = sorted(lst)\n",
    "    if lst[0]+lst[1]> lst[2]:\n",
    "        return True\n",
    "    else:\n",
    "        return False\n",
    "    \n",
    "cnt_num= 0\n",
    "num_list=[]\n",
    "while True:\n",
    "    if cnt_num != 3:\n",
    "        input_line = input()\n",
    "        input_num = int(input_line) if input_line.isnumeric() else None\n",
    "    \n",
    "    if input_num == None:\n",
    "        print(\"You should input number not string. \")\n",
    "    elif cnt_num == 3:\n",
    "        if is_valid_triangle(num_list[0],num_list[1],num_list[2]):\n",
    "            print(\"It is valid triangle\")\n",
    "        else:\n",
    "            print(\"It is not valid triangle\")\n",
    "        break\n",
    "    else:\n",
    "        num_list.append(input_num)\n",
    "        cnt_num += 1"
   ]
  },
  {
   "cell_type": "markdown",
   "metadata": {},
   "source": [
    "## Exercise92: Is a Number Prime?"
   ]
  },
  {
   "cell_type": "code",
   "execution_count": 33,
   "metadata": {},
   "outputs": [
    {
     "name": "stdout",
     "output_type": "stream",
     "text": [
      "6\n",
      "6 is not prime number\n"
     ]
    }
   ],
   "source": [
    "def is_prime(num):\n",
    "    for i in range(2,num+1):\n",
    "        if num%i ==0and num != i:\n",
    "            return False\n",
    "    return True\n",
    "\n",
    "input_line = input()\n",
    "input_num = int(input_line) if input_line.isnumeric() else None\n",
    "    \n",
    "if input_num == None:\n",
    "    print(\"You should input number not string. \")\n",
    "else:\n",
    "    if is_prime(input_num):\n",
    "        print(input_num,\"is prime number\")\n",
    "    else:\n",
    "        print(input_num,\"is not prime number\")"
   ]
  },
  {
   "cell_type": "markdown",
   "metadata": {},
   "source": [
    "## Exercise86: The Twelve Days of Christmas"
   ]
  },
  {
   "cell_type": "code",
   "execution_count": 61,
   "metadata": {},
   "outputs": [
    {
     "name": "stdout",
     "output_type": "stream",
     "text": [
      "\n",
      "On the first day of Christmas \n",
      "my true love sent to me:\n",
      "A partridge in a pear tree\n",
      "\n",
      "On the second day of Christmas \n",
      "my true love sent to me:\n",
      "Two turtle doves,\n",
      "And a partridge in a pear tree\n",
      "\n",
      "On the third day of Christmas \n",
      "my true love sent to me:\n",
      "Three French hens,\n",
      "Two turtle doves,\n",
      "And a partridge in a pear tree\n",
      "\n",
      "On the fourth day of Christmas \n",
      "my true love sent to me:\n",
      "Four calling birds,\n",
      "Three French hens,\n",
      "Two turtle doves,\n",
      "And a partridge in a pear tree\n",
      "\n",
      "On the fifth day of Christmas \n",
      "my true love sent to me:\n",
      "Five gold rings,\n",
      "Four calling birds,\n",
      "Three French hens,\n",
      "Two turtle doves,\n",
      "And a partridge in a pear tree\n",
      "\n",
      "On the sixth day of Christmas \n",
      "my true love sent to me:\n",
      "Six geese a laying,\n",
      "Five gold rings,\n",
      "Four calling birds,\n",
      "Three French hens,\n",
      "Two turtle doves,\n",
      "And a partridge in a pear tree\n",
      "\n",
      "On the seventh day of Christmas \n",
      "my true love sent to me:\n",
      "Seven swans a swimming,\n",
      "Six geese a laying,\n",
      "Five gold rings,\n",
      "Four calling birds,\n",
      "Three French hens,\n",
      "Two turtle doves,\n",
      "And a partridge in a pear tree\n",
      "\n",
      "On the eighth day of Christmas \n",
      "my true love sent to me:\n",
      "Eight maids a milking,\n",
      "Seven swans a swimming,\n",
      "Six geese a laying,\n",
      "Five gold rings,\n",
      "Four calling birds,\n",
      "Three French hens,\n",
      "Two turtle doves,\n",
      "And a partridge in a pear tree\n",
      "\n",
      "On the nineth day of Christmas \n",
      "my true love sent to me:\n",
      "Nine drummers drumming,\n",
      "Eight maids a milking,\n",
      "Seven swans a swimming,\n",
      "Six geese a laying,\n",
      "Five gold rings,\n",
      "Four calling birds,\n",
      "Three French hens,\n",
      "Two turtle doves,\n",
      "And a partridge in a pear tree\n",
      "\n",
      "On the tenth day of Christmas \n",
      "my true love sent to me:\n",
      "Ten pipers piping,\n",
      "Nine drummers drumming,\n",
      "Eight maids a milking,\n",
      "Seven swans a swimming,\n",
      "Six geese a laying,\n",
      "Five gold rings,\n",
      "Four calling birds,\n",
      "Three French hens,\n",
      "Two turtle doves,\n",
      "And a partridge in a pear tree\n",
      "\n",
      "On the eleventh day of Christmas \n",
      "my true love sent to me:\n",
      "Eleven ladies dancing,\n",
      "Ten pipers piping,\n",
      "Nine drummers drumming,\n",
      "Eight maids a milking,\n",
      "Seven swans a swimming,\n",
      "Six geese a laying,\n",
      "Five gold rings,\n",
      "Four calling birds,\n",
      "Three French hens,\n",
      "Two turtle doves,\n",
      "And a partridge in a pear tree\n",
      "\n",
      "On the twelfth day of Christmas \n",
      "my true love sent to me:\n",
      "Twelve Lords a leaping,\n",
      "Eleven ladies dancing,\n",
      "Ten pipers piping,\n",
      "Nine drummers drumming,\n",
      "Eight maids a milking,\n",
      "Seven swans a swimming,\n",
      "Six geese a laying,\n",
      "Five gold rings,\n",
      "Four calling birds,\n",
      "Three French hens,\n",
      "Two turtle doves,\n",
      "And a partridge in a pear tree\n",
      "\n"
     ]
    }
   ],
   "source": [
    "def get_verse(verse):\n",
    "    if 0<verse<13:\n",
    "        ordinal = {1:\"first\",2:\"second\",3:\"third\",4:\"fourth\",5:\"fifth\",6:\"sixth\", 7:\"seventh\",8:\"eighth\",9:\"nineth\",10:\"tenth\", 11:\"eleventh\",12:\"twelfth\"}\n",
    "        verse_str = \"On the \"\n",
    "        verse_str = verse_str + ordinal[verse] + \" day of Christmas \\nmy true love sent to me:\"\n",
    "\n",
    "        present = {2:\"Two turtle doves\",3:\"Three French hens\",4:\"Four calling birds\",5:\"Five gold rings\",6:\"Six geese a laying\",7:\"Seven swans a swimming\",8:\"Eight maids a milking\",9:\"Nine drummers drumming\",10:\"Ten pipers piping\",11:\"Eleven ladies dancing\",12:\"Twelve Lords a leaping\"}\n",
    "        for i in range(verse,1,-1):\n",
    "            verse_str = verse_str +'\\n' + present[i] +\",\"\n",
    "\n",
    "        if verse == 1:\n",
    "            verse_str = verse_str+ \"\\nA partridge in a pear tree\\n\"\n",
    "        else:\n",
    "            verse_str = verse_str+ \"\\nAnd a partridge in a pear tree\\n\"\n",
    "    \n",
    "        return verse_str\n",
    "    else:\n",
    "        return \"\"\n",
    "    \n",
    "for i in range(13):\n",
    "    print(get_verse(i))"
   ]
  }
 ],
 "metadata": {
  "kernelspec": {
   "display_name": "Python 3",
   "language": "python",
   "name": "python3"
  },
  "language_info": {
   "codemirror_mode": {
    "name": "ipython",
    "version": 3
   },
   "file_extension": ".py",
   "mimetype": "text/x-python",
   "name": "python",
   "nbconvert_exporter": "python",
   "pygments_lexer": "ipython3",
   "version": "3.6.5"
  }
 },
 "nbformat": 4,
 "nbformat_minor": 2
}
